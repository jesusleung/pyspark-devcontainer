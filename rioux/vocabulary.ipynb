{
 "cells": [
  {
   "cell_type": "code",
   "execution_count": 11,
   "metadata": {},
   "outputs": [],
   "source": [
    "from pyspark.sql import SparkSession\n",
    "\n",
    "spark = (SparkSession\n",
    "         .builder\n",
    "         .appName('Analyzing the vocabulary of Pride and Prejudice')\n",
    "         .getOrCreate())"
   ]
  },
  {
   "cell_type": "code",
   "execution_count": 12,
   "metadata": {},
   "outputs": [],
   "source": [
    "import requests \n",
    "import tempfile\n",
    "\n",
    "url = 'https://www.gutenberg.org/cache/epub/1342/pg1342.txt'\n",
    "response = requests.get(url)\n",
    "text = response.text\n",
    "\n",
    "with tempfile.NamedTemporaryFile(delete=False, mode='w') as temp_file:\n",
    "    temp_file.write(text)\n",
    "    temp_path = temp_file.name\n",
    "\n",
    "book = spark.read.text(temp_path)\n",
    "\n"
   ]
  },
  {
   "cell_type": "code",
   "execution_count": 14,
   "metadata": {},
   "outputs": [
    {
     "name": "stdout",
     "output_type": "stream",
     "text": [
      "root\n",
      " |-- value: string (nullable = true)\n",
      "\n"
     ]
    }
   ],
   "source": [
    "book.printSchema()"
   ]
  },
  {
   "cell_type": "code",
   "execution_count": 13,
   "metadata": {},
   "outputs": [
    {
     "name": "stdout",
     "output_type": "stream",
     "text": [
      "[('value', 'string')]\n"
     ]
    }
   ],
   "source": [
    "print(book.dtypes)"
   ]
  },
  {
   "cell_type": "code",
   "execution_count": null,
   "metadata": {},
   "outputs": [
    {
     "name": "stdout",
     "output_type": "stream",
     "text": [
      "+--------------------------------------------------------------------------------+\n",
      "|                                                                           value|\n",
      "+--------------------------------------------------------------------------------+\n",
      "|                              The Project Gutenberg eBook of Pride and Prejudice|\n",
      "|                                                                                |\n",
      "|           This ebook is for the use of anyone anywhere in the United States and|\n",
      "|        most other parts of the world at no cost and with almost no restrictions|\n",
      "|          whatsoever. You may copy it, give it away or re-use it under the terms|\n",
      "|             of the Project Gutenberg License included with this ebook or online|\n",
      "|              at www.gutenberg.org. If you are not located in the United States,|\n",
      "|            you will have to check the laws of the country where you are located|\n",
      "|                                                        before using this eBook.|\n",
      "|                                                                                |\n",
      "|                                                      Title: Pride and Prejudice|\n",
      "|                                                                                |\n",
      "|                                                             Author: Jane Austen|\n",
      "|                                                                                |\n",
      "|                                        Release date: June 1, 1998 [eBook #1342]|\n",
      "|                                            Most recently updated: June 17, 2024|\n",
      "|                                                                                |\n",
      "|                                                               Language: English|\n",
      "|                                                                                |\n",
      "|Credits: Chuck Greif and the Online Distributed Proofreading Team at http://w...|\n",
      "|                                                                                |\n",
      "|                                                                                |\n",
      "|                *** START OF THE PROJECT GUTENBERG EBOOK PRIDE AND PREJUDICE ***|\n",
      "|                                                                                |\n",
      "|                                                                                |\n",
      "+--------------------------------------------------------------------------------+\n",
      "only showing top 25 rows\n",
      "\n"
     ]
    }
   ],
   "source": [
    "# Show the first 25 rows and truncate the row to 80 characters\n",
    "\n",
    "book.show(25, truncate=80)"
   ]
  }
 ],
 "metadata": {
  "kernelspec": {
   "display_name": "vscode_pyspark",
   "language": "python",
   "name": "vscode_pyspark"
  },
  "language_info": {
   "codemirror_mode": {
    "name": "ipython",
    "version": 3
   },
   "file_extension": ".py",
   "mimetype": "text/x-python",
   "name": "python",
   "nbconvert_exporter": "python",
   "pygments_lexer": "ipython3",
   "version": "3.12.7"
  }
 },
 "nbformat": 4,
 "nbformat_minor": 2
}
