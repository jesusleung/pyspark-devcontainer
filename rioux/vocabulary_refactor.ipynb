{
 "cells": [
  {
   "cell_type": "code",
   "execution_count": null,
   "metadata": {},
   "outputs": [
    {
     "ename": "",
     "evalue": "",
     "output_type": "error",
     "traceback": [
      "\u001b[1;31mRunning cells with 'Python 3.12.3' requires the ipykernel package.\n",
      "\u001b[1;31mRun the following command to install 'ipykernel' into the Python environment. \n",
      "\u001b[1;31mCommand: '/opt/homebrew/bin/python3 -m pip install ipykernel -U --user --force-reinstall'"
     ]
    }
   ],
   "source": [
    "from pyspark.sql import SparkSession\n",
    "''\n",
    "spark = (SparkSession\n",
    "         .builder\n",
    "         .appName('Analyzing the vocabulary of Pride and Prejudice')\n",
    "         .getOrCreate())"
   ]
  },
  {
   "cell_type": "code",
   "execution_count": null,
   "metadata": {},
   "outputs": [],
   "source": [
    "import requests \n",
    "import tempfile\n",
    "\n",
    "url = 'https://www.gutenberg.org/cache/epub/1342/pg1342.txt'\n",
    "response = requests.get(url)\n",
    "text = response.text\n",
    "\n",
    "with tempfile.NamedTemporaryFile(delete=False, mode='w') as temp_file:\n",
    "    temp_file.write(text)\n",
    "    temp_path = temp_file.name\n",
    "\n",
    "book = spark.read.text(temp_path)"
   ]
  },
  {
   "cell_type": "code",
   "execution_count": null,
   "metadata": {},
   "outputs": [],
   "source": [
    "import pyspark.sql.functions as F\n",
    "\n",
    "results = (\n",
    "    book\n",
    "    .select(F.split(F.col('value'), ' ').alias('line'))\n",
    "    .select(F.explode(F.col('line')).alias('word'))\n",
    "    .select(F.lower(F.col('word')).alias('word'))\n",
    "    .select(F.regexp_extract(F.col('word'), '[a-z]+',0).alias('word'))\n",
    "    .filter(F.col('word') != '')\n",
    "    .groupBy('word')\n",
    "    .count()\n",
    ")"
   ]
  },
  {
   "cell_type": "code",
   "execution_count": null,
   "metadata": {},
   "outputs": [],
   "source": [
    "results.orderBy(F.col('count').desc()).show()\n",
    "results.write.csv('data/vocabulary_count.csv')"
   ]
  }
 ],
 "metadata": {
  "kernelspec": {
   "display_name": "Python 3",
   "language": "python",
   "name": "python3"
  },
  "language_info": {
   "codemirror_mode": {
    "name": "ipython",
    "version": 3
   },
   "file_extension": ".py",
   "mimetype": "text/x-python",
   "name": "python",
   "nbconvert_exporter": "python",
   "pygments_lexer": "ipython3",
   "version": "3.12.3"
  }
 },
 "nbformat": 4,
 "nbformat_minor": 2
}
