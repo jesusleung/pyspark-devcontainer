{
 "cells": [
  {
   "cell_type": "code",
   "execution_count": 1,
   "metadata": {},
   "outputs": [],
   "source": [
    "from pyspark.sql import SparkSession\n",
    "''\n",
    "spark = (SparkSession\n",
    "         .builder\n",
    "         .appName('Analyzing the vocabulary of Pride and Prejudice')\n",
    "         .getOrCreate())"
   ]
  },
  {
   "cell_type": "code",
   "execution_count": 2,
   "metadata": {},
   "outputs": [],
   "source": [
    "import requests \n",
    "import tempfile\n",
    "\n",
    "url = 'https://www.gutenberg.org/cache/epub/1342/pg1342.txt'\n",
    "response = requests.get(url)\n",
    "text = response.text\n",
    "\n",
    "with tempfile.NamedTemporaryFile(delete=False, mode='w') as temp_file:\n",
    "    temp_file.write(text)\n",
    "    temp_path = temp_file.name\n",
    "\n",
    "book = spark.read.text(temp_path)"
   ]
  },
  {
   "cell_type": "code",
   "execution_count": 15,
   "metadata": {},
   "outputs": [],
   "source": [
    "import pyspark.sql.functions as F\n",
    "\n",
    "results = (\n",
    "    book\n",
    "    .select(F.split(F.col('value'), ' ').alias('line'))\n",
    "    .select(F.explode(F.col('line')).alias('word'))\n",
    "    .select(F.lower(F.col('word')).alias('word'))\n",
    "    .select(F.regexp_extract(F.col('word'), '[a-z]+',0).alias('word'))\n",
    "    .filter(F.col('word') != '')\n",
    "    .groupBy('word')\n",
    "    .count()\n",
    "    .orderBy(F.col('count').desc())\n",
    ")"
   ]
  },
  {
   "cell_type": "code",
   "execution_count": 16,
   "metadata": {},
   "outputs": [
    {
     "name": "stdout",
     "output_type": "stream",
     "text": [
      "+----+-----+\n",
      "|word|count|\n",
      "+----+-----+\n",
      "| the| 4842|\n",
      "|  to| 4399|\n",
      "|  of| 3959|\n",
      "| and| 3785|\n",
      "| her| 2281|\n",
      "|   i| 2105|\n",
      "|   a| 2080|\n",
      "|  in| 2039|\n",
      "| was| 1877|\n",
      "| she| 1744|\n",
      "|that| 1639|\n",
      "|  it| 1597|\n",
      "| not| 1526|\n",
      "| you| 1444|\n",
      "|  he| 1359|\n",
      "| his| 1302|\n",
      "|  be| 1280|\n",
      "|  as| 1240|\n",
      "| had| 1186|\n",
      "|with| 1148|\n",
      "+----+-----+\n",
      "only showing top 20 rows\n",
      "\n"
     ]
    }
   ],
   "source": [
    "results.show()"
   ]
  }
 ],
 "metadata": {
  "kernelspec": {
   "display_name": "vscode_pyspark",
   "language": "python",
   "name": "vscode_pyspark"
  },
  "language_info": {
   "codemirror_mode": {
    "name": "ipython",
    "version": 3
   },
   "file_extension": ".py",
   "mimetype": "text/x-python",
   "name": "python",
   "nbconvert_exporter": "python",
   "pygments_lexer": "ipython3",
   "version": "3.12.7"
  }
 },
 "nbformat": 4,
 "nbformat_minor": 2
}
